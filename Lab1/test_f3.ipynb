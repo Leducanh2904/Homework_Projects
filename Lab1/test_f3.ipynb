{
 "cells": [
  {
   "cell_type": "code",
   "execution_count": null,
   "id": "a9259746",
   "metadata": {},
   "outputs": [
    {
     "name": "stdout",
     "output_type": "stream",
     "text": [
      "expected:error\n",
      "0\n",
      "expected:2\n",
      "2\n",
      "expected:-2\n",
      "-2\n",
      "expected:20\n",
      "20\n"
     ]
    }
   ],
   "source": [
    "!g++ f3.cpp -o f3\n",
    "!echo expected:error\n",
    "!echo 0 | f3.exe\n",
    "!echo expected:2\n",
    "!echo 1 | f3.exe\n",
    "!echo expected:-4\n",
    "!echo -2 | f3.exe\n",
    "!echo expected:20\n",
    "!echo 10 | f3.exe\n"
   ]
  }
 ],
 "metadata": {
  "kernelspec": {
   "display_name": "base",
   "language": "python",
   "name": "python3"
  },
  "language_info": {
   "codemirror_mode": {
    "name": "ipython",
    "version": 3
   },
   "file_extension": ".py",
   "mimetype": "text/x-python",
   "name": "python",
   "nbconvert_exporter": "python",
   "pygments_lexer": "ipython3",
   "version": "3.13.5"
  }
 },
 "nbformat": 4,
 "nbformat_minor": 5
}
