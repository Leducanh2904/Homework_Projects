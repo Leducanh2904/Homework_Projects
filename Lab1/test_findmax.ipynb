{
 "cells": [
  {
   "cell_type": "code",
   "execution_count": 21,
   "id": "9eda7255",
   "metadata": {},
   "outputs": [
    {
     "name": "stdout",
     "output_type": "stream",
     "text": [
      "expected: 8\n",
      "8\n"
     ]
    }
   ],
   "source": [
    "!g++ findmax.cpp -o findmax\n",
    "!echo expected: 8\n",
    "!echo 0 8 5 | findmax.exe"
   ]
  },
  {
   "cell_type": "code",
   "execution_count": 20,
   "id": "867ddac6",
   "metadata": {},
   "outputs": [
    {
     "name": "stdout",
     "output_type": "stream",
     "text": [
      "expected: -3\n",
      "-3\n"
     ]
    }
   ],
   "source": [
    "!g++ findmax.cpp -o findmax\n",
    "!echo expected: -3\n",
    "!echo -3 -8 -5 | findmax.exe"
   ]
  },
  {
   "cell_type": "code",
   "execution_count": null,
   "id": "8414507b",
   "metadata": {},
   "outputs": [
    {
     "name": "stdout",
     "output_type": "stream",
     "text": [
      "expected: 0\n",
      "0\n"
     ]
    }
   ],
   "source": [
    "!g++ findmax.cpp -o findmax\n",
    "!echo expected: 8\n",
    "!echo 3 8 8 | findmax.exe"
   ]
  },
  {
   "cell_type": "code",
   "execution_count": 16,
   "id": "e83e0f4a",
   "metadata": {},
   "outputs": [
    {
     "name": "stdout",
     "output_type": "stream",
     "text": [
      "expected: 8\n",
      "8\n"
     ]
    }
   ],
   "source": [
    "!g++ findmax.cpp -o findmax\n",
    "!echo expected: 8\n",
    "!echo 3 8 3 | findmax.exe"
   ]
  },
  {
   "cell_type": "code",
   "execution_count": 13,
   "id": "b88c363d",
   "metadata": {},
   "outputs": [
    {
     "name": "stdout",
     "output_type": "stream",
     "text": [
      "expected: 8\n",
      "8\n"
     ]
    }
   ],
   "source": [
    "!g++ findmax.cpp -o findmax\n",
    "!echo expected: 8\n",
    "!echo 8 3 5 | findmax.exe"
   ]
  },
  {
   "cell_type": "code",
   "execution_count": 10,
   "id": "7688e5a8",
   "metadata": {},
   "outputs": [
    {
     "name": "stdout",
     "output_type": "stream",
     "text": [
      "expected: 8\n",
      "8\n"
     ]
    }
   ],
   "source": [
    "!g++ findmax.cpp -o findmax\n",
    "!echo expected: 8\n",
    "!echo 3 5 8 | findmax.exe\n"
   ]
  },
  {
   "cell_type": "code",
   "execution_count": 9,
   "id": "a546ab7a",
   "metadata": {},
   "outputs": [
    {
     "name": "stdout",
     "output_type": "stream",
     "text": [
      "expected: 8\n",
      "8\n"
     ]
    }
   ],
   "source": [
    "!g++ findmax.cpp -o findmax\n",
    "!echo expected: 8\n",
    "!echo 3 8 5 | findmax.exe\n"
   ]
  },
  {
   "cell_type": "code",
   "execution_count": 19,
   "id": "b511418c",
   "metadata": {},
   "outputs": [
    {
     "name": "stdout",
     "output_type": "stream",
     "text": [
      "expected: 10\n",
      "0\n"
     ]
    }
   ],
   "source": [
    "!g++ findmax.cpp -o findmax\n",
    "!echo expected: 10\n",
    "!echo 10 10 10 | findmax.exe\n"
   ]
  }
 ],
 "metadata": {
  "kernelspec": {
   "display_name": "base",
   "language": "python",
   "name": "python3"
  },
  "language_info": {
   "codemirror_mode": {
    "name": "ipython",
    "version": 3
   },
   "file_extension": ".py",
   "mimetype": "text/x-python",
   "name": "python",
   "nbconvert_exporter": "python",
   "pygments_lexer": "ipython3",
   "version": "3.13.5"
  }
 },
 "nbformat": 4,
 "nbformat_minor": 5
}
