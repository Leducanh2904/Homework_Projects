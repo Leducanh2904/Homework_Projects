{
 "cells": [
  {
   "cell_type": "code",
   "execution_count": null,
   "id": "b511418c",
   "metadata": {},
   "outputs": [
    {
     "name": "stdout",
     "output_type": "stream",
     "text": [
      "expected: 0\n",
      "Expected: 0\n"
     ]
    }
   ],
   "source": [
    "!g++ findmax.cpp -o findmax\n",
    "!echo expected: 0\n",
    "!echo -1 3 3 | findmax.exe\n"
   ]
  }
 ],
 "metadata": {
  "kernelspec": {
   "display_name": "base",
   "language": "python",
   "name": "python3"
  },
  "language_info": {
   "codemirror_mode": {
    "name": "ipython",
    "version": 3
   },
   "file_extension": ".py",
   "mimetype": "text/x-python",
   "name": "python",
   "nbconvert_exporter": "python",
   "pygments_lexer": "ipython3",
   "version": "3.13.5"
  }
 },
 "nbformat": 4,
 "nbformat_minor": 5
}
