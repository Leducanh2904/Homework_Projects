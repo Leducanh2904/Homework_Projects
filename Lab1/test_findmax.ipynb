{
 "cells": [
  {
   "cell_type": "code",
   "execution_count": null,
   "id": "16f7c04e",
   "metadata": {},
   "outputs": [
    {
     "name": "stdout",
     "output_type": "stream",
     "text": [
      "expected: 8\n",
      "8\n",
      "expected: -3\n",
      "-3\n",
      "expected: 8\n",
      "0\n",
      "expected: 8\n",
      "8\n",
      "expected: 8\n",
      "8\n",
      "expected: 8\n",
      "8\n",
      "expected: 8\n",
      "8\n",
      "expected: 8\n",
      "8\n",
      "expected: 10\n",
      "0\n"
     ]
    }
   ],
   "source": [
    "!g++ findmax.cpp -o findmax\n",
    "!echo expected: 8\n",
    "!echo 0 8 5 | findmax.exe\n",
    "!echo expected: -3\n",
    "!echo -3 -8 -5 | findmax.exe\n",
    "!echo expected: 8\n",
    "!echo 3 8 8 | findmax.exe\n",
    "!echo expected: 8\n",
    "!echo 3 8 3 | findmax.exe\n",
    "!echo expected: 8\n",
    "!echo 8 3 3 | findmax.exe\n",
    "!echo expected: 8\n",
    "!echo 8 3 5 | findmax.exe\n",
    "!echo expected: 8\n",
    "!echo 3 5 8 | findmax.exe\n",
    "!echo expected: 8\n",
    "!echo 3 8 5 | findmax.exe\n",
    "!echo expected: 10\n",
    "!echo 10 10 10 | findmax.exe"
   ]
  }
 ],
 "metadata": {
  "kernelspec": {
   "display_name": "base",
   "language": "python",
   "name": "python3"
  },
  "language_info": {
   "codemirror_mode": {
    "name": "ipython",
    "version": 3
   },
   "file_extension": ".py",
   "mimetype": "text/x-python",
   "name": "python",
   "nbconvert_exporter": "python",
   "pygments_lexer": "ipython3",
   "version": "3.13.5"
  }
 },
 "nbformat": 4,
 "nbformat_minor": 5
}
