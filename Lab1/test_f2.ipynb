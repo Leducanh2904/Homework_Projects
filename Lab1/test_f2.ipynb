{
 "cells": [
  {
   "cell_type": "code",
   "execution_count": null,
   "id": "f71ffbbe",
   "metadata": {},
   "outputs": [
    {
     "name": "stdout",
     "output_type": "stream",
     "text": [
      "expected: 0\n",
      "0\n",
      "expected: 20\n",
      "20\n",
      "expected: 12\n",
      "12\n"
     ]
    }
   ],
   "source": [
    "!g++ f2.cpp -o f2\n",
    "!echo expected: 0\n",
    "!echo 0 | f2.exe\n",
    "!echo expected: 20\n",
    "!echo 10 | f2.exe\n",
    "!echo expected: 12\n",
    "!echo 6 | f2.exe\n",
    "!echo expected: -2\n",
    "!echo -1 | f2.exe\n",
    "\n",
    "\n"
   ]
  }
 ],
 "metadata": {
  "kernelspec": {
   "display_name": "base",
   "language": "python",
   "name": "python3"
  },
  "language_info": {
   "codemirror_mode": {
    "name": "ipython",
    "version": 3
   },
   "file_extension": ".py",
   "mimetype": "text/x-python",
   "name": "python",
   "nbconvert_exporter": "python",
   "pygments_lexer": "ipython3",
   "version": "3.13.5"
  }
 },
 "nbformat": 4,
 "nbformat_minor": 5
}
