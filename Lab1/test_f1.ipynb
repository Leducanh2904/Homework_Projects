{
 "cells": [
  {
   "cell_type": "code",
   "execution_count": null,
   "id": "969ddc49",
   "metadata": {},
   "outputs": [],
   "source": [
    "!g++ f1.cpp -o f1\n",
    "!echo expected: 0\n",
    "!echo 0 | f1.exe"
   ]
  },
  {
   "cell_type": "code",
   "execution_count": 5,
   "id": "6a117aae",
   "metadata": {},
   "outputs": [
    {
     "name": "stdout",
     "output_type": "stream",
     "text": [
      "expected: 30\n",
      "30\n"
     ]
    }
   ],
   "source": [
    "!g++ f1.cpp -o f1\n",
    "!echo expected: 30\n",
    "!echo 15 | f1.exe"
   ]
  },
  {
   "cell_type": "code",
   "execution_count": null,
   "id": "8a0ef575",
   "metadata": {},
   "outputs": [
    {
     "name": "stdout",
     "output_type": "stream",
     "text": [
      "expected: -10\n",
      "-10\n"
     ]
    }
   ],
   "source": [
    "!g++ f1.cpp -o f1\n",
    "!echo expected: -10\n",
    "!echo 10 | f1.exe"
   ]
  },
  {
   "cell_type": "code",
   "execution_count": 3,
   "id": "427ec859",
   "metadata": {},
   "outputs": [
    {
     "name": "stdout",
     "output_type": "stream",
     "text": [
      "expected: 10\n",
      "10\n"
     ]
    }
   ],
   "source": [
    "!g++ f1.cpp -o f1\n",
    "!echo expected: 10\n",
    "!echo -10 | f1.exe"
   ]
  }
 ],
 "metadata": {
  "kernelspec": {
   "display_name": "base",
   "language": "python",
   "name": "python3"
  },
  "language_info": {
   "codemirror_mode": {
    "name": "ipython",
    "version": 3
   },
   "file_extension": ".py",
   "mimetype": "text/x-python",
   "name": "python",
   "nbconvert_exporter": "python",
   "pygments_lexer": "ipython3",
   "version": "3.13.5"
  }
 },
 "nbformat": 4,
 "nbformat_minor": 5
}
