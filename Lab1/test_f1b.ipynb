{
 "cells": [
  {
   "cell_type": "code",
   "execution_count": 9,
   "id": "03d44f18",
   "metadata": {},
   "outputs": [
    {
     "name": "stdout",
     "output_type": "stream",
     "text": [
      "expected: 24\n",
      "24\n",
      "expected: -10\n",
      "-10\n",
      "expected: -3\n",
      "-3\n",
      "expected: -6\n",
      "-6\n",
      "expected: 0\n",
      "0\n"
     ]
    }
   ],
   "source": [
    "!g++ f1b.cpp -o f1b\n",
    "!echo expected: 24\n",
    "!echo 12 | f1b.exe\n",
    "!echo expected: -10\n",
    "!echo 10 | f1b.exe\n",
    "!echo expected: -3\n",
    "!echo 3 | f1b.exe\n",
    "!echo expected: -6\n",
    "!echo -3 | f1b.exe\n",
    "!echo expected: 0\n",
    "!echo 0 | f1b.exe"
   ]
  }
 ],
 "metadata": {
  "kernelspec": {
   "display_name": "base",
   "language": "python",
   "name": "python3"
  },
  "language_info": {
   "codemirror_mode": {
    "name": "ipython",
    "version": 3
   },
   "file_extension": ".py",
   "mimetype": "text/x-python",
   "name": "python",
   "nbconvert_exporter": "python",
   "pygments_lexer": "ipython3",
   "version": "3.13.5"
  }
 },
 "nbformat": 4,
 "nbformat_minor": 5
}
