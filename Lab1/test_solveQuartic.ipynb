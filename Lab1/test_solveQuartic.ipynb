{
 "cells": [
  {
   "cell_type": "code",
   "execution_count": null,
   "id": "f29681c3",
   "metadata": {},
   "outputs": [
    {
     "name": "stdout",
     "output_type": "stream",
     "text": [
      "Expected: Infinite solutions.\n",
      "0 0 0\n",
      "Expected: No solution.\n",
      "0 0 3\n",
      "Expected: The equation has 2 real solution(s): -1.5 -1.5\n",
      "0 2 3\n",
      "Expected: No solution.\n",
      "2 0 3\n",
      "Expected: The equation has 2 real solution(s): 2 1\n",
      "1 -3 2\n",
      "Expected: The equation has 2 real solution(s): 1 1\n",
      "1 -2 1\n"
     ]
    }
   ],
   "source": [
    "!g++ solveQuartic.cpp -o solveQuartic\n",
    "!echo Expected: Infinite solutions.\n",
    "!echo 0 0 0 | solveQuartic.exe\n",
    "!echo Expected: No solution. \n",
    "!echo 0 0 3 | solveQuartic.exe\n",
    "!echo Expected: The equation has 2 real solution(s): -1.5 -1.5\n",
    "!echo 0 2 3 | solveQuartic.exe\n",
    "!echo Expected: No solution.\n",
    "!echo 2 0 3 | solveQuartic.exe\n",
    "!echo Expected: The equation has 2 real solution(s): 2 1\n",
    "!echo 1 -3 2 | solveQuartic.exe\n",
    "!echo Expected: The equation has 2 real solution(s): 1 1\n",
    "!echo 1 -2 1 | solveQuartic.exe\n"
   ]
  }
 ],
 "metadata": {
  "kernelspec": {
   "display_name": "base",
   "language": "python",
   "name": "python3"
  },
  "language_info": {
   "codemirror_mode": {
    "name": "ipython",
    "version": 3
   },
   "file_extension": ".py",
   "mimetype": "text/x-python",
   "name": "python",
   "nbconvert_exporter": "python",
   "pygments_lexer": "ipython3",
   "version": "3.13.5"
  }
 },
 "nbformat": 4,
 "nbformat_minor": 5
}
